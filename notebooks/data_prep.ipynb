{
 "cells": [
  {
   "cell_type": "code",
   "execution_count": 1,
   "metadata": {},
   "outputs": [],
   "source": [
    "import numpy as np\n",
    "import pandas as pd"
   ]
  },
  {
   "cell_type": "code",
   "execution_count": 2,
   "metadata": {},
   "outputs": [],
   "source": [
    "df = pd.read_csv('../data/raw/beer_reviews.csv')"
   ]
  },
  {
   "cell_type": "code",
   "execution_count": 3,
   "metadata": {},
   "outputs": [
    {
     "data": {
      "text/html": [
       "<div>\n",
       "<style scoped>\n",
       "    .dataframe tbody tr th:only-of-type {\n",
       "        vertical-align: middle;\n",
       "    }\n",
       "\n",
       "    .dataframe tbody tr th {\n",
       "        vertical-align: top;\n",
       "    }\n",
       "\n",
       "    .dataframe thead th {\n",
       "        text-align: right;\n",
       "    }\n",
       "</style>\n",
       "<table border=\"1\" class=\"dataframe\">\n",
       "  <thead>\n",
       "    <tr style=\"text-align: right;\">\n",
       "      <th></th>\n",
       "      <th>brewery_id</th>\n",
       "      <th>brewery_name</th>\n",
       "      <th>review_time</th>\n",
       "      <th>review_overall</th>\n",
       "      <th>review_aroma</th>\n",
       "      <th>review_appearance</th>\n",
       "      <th>review_profilename</th>\n",
       "      <th>beer_style</th>\n",
       "      <th>review_palate</th>\n",
       "      <th>review_taste</th>\n",
       "      <th>beer_name</th>\n",
       "      <th>beer_abv</th>\n",
       "      <th>beer_beerid</th>\n",
       "    </tr>\n",
       "  </thead>\n",
       "  <tbody>\n",
       "    <tr>\n",
       "      <th>0</th>\n",
       "      <td>10325</td>\n",
       "      <td>Vecchio Birraio</td>\n",
       "      <td>1234817823</td>\n",
       "      <td>1.5</td>\n",
       "      <td>2.0</td>\n",
       "      <td>2.5</td>\n",
       "      <td>stcules</td>\n",
       "      <td>Hefeweizen</td>\n",
       "      <td>1.5</td>\n",
       "      <td>1.5</td>\n",
       "      <td>Sausa Weizen</td>\n",
       "      <td>5.0</td>\n",
       "      <td>47986</td>\n",
       "    </tr>\n",
       "    <tr>\n",
       "      <th>1</th>\n",
       "      <td>10325</td>\n",
       "      <td>Vecchio Birraio</td>\n",
       "      <td>1235915097</td>\n",
       "      <td>3.0</td>\n",
       "      <td>2.5</td>\n",
       "      <td>3.0</td>\n",
       "      <td>stcules</td>\n",
       "      <td>English Strong Ale</td>\n",
       "      <td>3.0</td>\n",
       "      <td>3.0</td>\n",
       "      <td>Red Moon</td>\n",
       "      <td>6.2</td>\n",
       "      <td>48213</td>\n",
       "    </tr>\n",
       "    <tr>\n",
       "      <th>2</th>\n",
       "      <td>10325</td>\n",
       "      <td>Vecchio Birraio</td>\n",
       "      <td>1235916604</td>\n",
       "      <td>3.0</td>\n",
       "      <td>2.5</td>\n",
       "      <td>3.0</td>\n",
       "      <td>stcules</td>\n",
       "      <td>Foreign / Export Stout</td>\n",
       "      <td>3.0</td>\n",
       "      <td>3.0</td>\n",
       "      <td>Black Horse Black Beer</td>\n",
       "      <td>6.5</td>\n",
       "      <td>48215</td>\n",
       "    </tr>\n",
       "    <tr>\n",
       "      <th>3</th>\n",
       "      <td>10325</td>\n",
       "      <td>Vecchio Birraio</td>\n",
       "      <td>1234725145</td>\n",
       "      <td>3.0</td>\n",
       "      <td>3.0</td>\n",
       "      <td>3.5</td>\n",
       "      <td>stcules</td>\n",
       "      <td>German Pilsener</td>\n",
       "      <td>2.5</td>\n",
       "      <td>3.0</td>\n",
       "      <td>Sausa Pils</td>\n",
       "      <td>5.0</td>\n",
       "      <td>47969</td>\n",
       "    </tr>\n",
       "    <tr>\n",
       "      <th>4</th>\n",
       "      <td>1075</td>\n",
       "      <td>Caldera Brewing Company</td>\n",
       "      <td>1293735206</td>\n",
       "      <td>4.0</td>\n",
       "      <td>4.5</td>\n",
       "      <td>4.0</td>\n",
       "      <td>johnmichaelsen</td>\n",
       "      <td>American Double / Imperial IPA</td>\n",
       "      <td>4.0</td>\n",
       "      <td>4.5</td>\n",
       "      <td>Cauldron DIPA</td>\n",
       "      <td>7.7</td>\n",
       "      <td>64883</td>\n",
       "    </tr>\n",
       "  </tbody>\n",
       "</table>\n",
       "</div>"
      ],
      "text/plain": [
       "   brewery_id             brewery_name  review_time  review_overall  \\\n",
       "0       10325          Vecchio Birraio   1234817823             1.5   \n",
       "1       10325          Vecchio Birraio   1235915097             3.0   \n",
       "2       10325          Vecchio Birraio   1235916604             3.0   \n",
       "3       10325          Vecchio Birraio   1234725145             3.0   \n",
       "4        1075  Caldera Brewing Company   1293735206             4.0   \n",
       "\n",
       "   review_aroma  review_appearance review_profilename  \\\n",
       "0           2.0                2.5            stcules   \n",
       "1           2.5                3.0            stcules   \n",
       "2           2.5                3.0            stcules   \n",
       "3           3.0                3.5            stcules   \n",
       "4           4.5                4.0     johnmichaelsen   \n",
       "\n",
       "                       beer_style  review_palate  review_taste  \\\n",
       "0                      Hefeweizen            1.5           1.5   \n",
       "1              English Strong Ale            3.0           3.0   \n",
       "2          Foreign / Export Stout            3.0           3.0   \n",
       "3                 German Pilsener            2.5           3.0   \n",
       "4  American Double / Imperial IPA            4.0           4.5   \n",
       "\n",
       "                beer_name  beer_abv  beer_beerid  \n",
       "0            Sausa Weizen       5.0        47986  \n",
       "1                Red Moon       6.2        48213  \n",
       "2  Black Horse Black Beer       6.5        48215  \n",
       "3              Sausa Pils       5.0        47969  \n",
       "4           Cauldron DIPA       7.7        64883  "
      ]
     },
     "execution_count": 3,
     "metadata": {},
     "output_type": "execute_result"
    }
   ],
   "source": [
    "df.head()"
   ]
  },
  {
   "cell_type": "code",
   "execution_count": 4,
   "metadata": {},
   "outputs": [
    {
     "data": {
      "text/plain": [
       "(1586614, 13)"
      ]
     },
     "execution_count": 4,
     "metadata": {},
     "output_type": "execute_result"
    }
   ],
   "source": [
    "df.shape"
   ]
  },
  {
   "cell_type": "code",
   "execution_count": 5,
   "metadata": {},
   "outputs": [
    {
     "name": "stdout",
     "output_type": "stream",
     "text": [
      "<class 'pandas.core.frame.DataFrame'>\n",
      "RangeIndex: 1586614 entries, 0 to 1586613\n",
      "Data columns (total 13 columns):\n",
      "brewery_id            1586614 non-null int64\n",
      "brewery_name          1586599 non-null object\n",
      "review_time           1586614 non-null int64\n",
      "review_overall        1586614 non-null float64\n",
      "review_aroma          1586614 non-null float64\n",
      "review_appearance     1586614 non-null float64\n",
      "review_profilename    1586266 non-null object\n",
      "beer_style            1586614 non-null object\n",
      "review_palate         1586614 non-null float64\n",
      "review_taste          1586614 non-null float64\n",
      "beer_name             1586614 non-null object\n",
      "beer_abv              1518829 non-null float64\n",
      "beer_beerid           1586614 non-null int64\n",
      "dtypes: float64(6), int64(3), object(4)\n",
      "memory usage: 157.4+ MB\n"
     ]
    }
   ],
   "source": [
    "df.info()"
   ]
  },
  {
   "cell_type": "code",
   "execution_count": 6,
   "metadata": {},
   "outputs": [
    {
     "data": {
      "text/html": [
       "<div>\n",
       "<style scoped>\n",
       "    .dataframe tbody tr th:only-of-type {\n",
       "        vertical-align: middle;\n",
       "    }\n",
       "\n",
       "    .dataframe tbody tr th {\n",
       "        vertical-align: top;\n",
       "    }\n",
       "\n",
       "    .dataframe thead th {\n",
       "        text-align: right;\n",
       "    }\n",
       "</style>\n",
       "<table border=\"1\" class=\"dataframe\">\n",
       "  <thead>\n",
       "    <tr style=\"text-align: right;\">\n",
       "      <th></th>\n",
       "      <th>brewery_id</th>\n",
       "      <th>review_time</th>\n",
       "      <th>review_overall</th>\n",
       "      <th>review_aroma</th>\n",
       "      <th>review_appearance</th>\n",
       "      <th>review_palate</th>\n",
       "      <th>review_taste</th>\n",
       "      <th>beer_abv</th>\n",
       "      <th>beer_beerid</th>\n",
       "    </tr>\n",
       "  </thead>\n",
       "  <tbody>\n",
       "    <tr>\n",
       "      <th>count</th>\n",
       "      <td>1.586614e+06</td>\n",
       "      <td>1.586614e+06</td>\n",
       "      <td>1.586614e+06</td>\n",
       "      <td>1.586614e+06</td>\n",
       "      <td>1.586614e+06</td>\n",
       "      <td>1.586614e+06</td>\n",
       "      <td>1.586614e+06</td>\n",
       "      <td>1.518829e+06</td>\n",
       "      <td>1.586614e+06</td>\n",
       "    </tr>\n",
       "    <tr>\n",
       "      <th>mean</th>\n",
       "      <td>3.130099e+03</td>\n",
       "      <td>1.224089e+09</td>\n",
       "      <td>3.815581e+00</td>\n",
       "      <td>3.735636e+00</td>\n",
       "      <td>3.841642e+00</td>\n",
       "      <td>3.743701e+00</td>\n",
       "      <td>3.792860e+00</td>\n",
       "      <td>7.042387e+00</td>\n",
       "      <td>2.171279e+04</td>\n",
       "    </tr>\n",
       "    <tr>\n",
       "      <th>std</th>\n",
       "      <td>5.578104e+03</td>\n",
       "      <td>7.654427e+07</td>\n",
       "      <td>7.206219e-01</td>\n",
       "      <td>6.976167e-01</td>\n",
       "      <td>6.160928e-01</td>\n",
       "      <td>6.822184e-01</td>\n",
       "      <td>7.319696e-01</td>\n",
       "      <td>2.322526e+00</td>\n",
       "      <td>2.181834e+04</td>\n",
       "    </tr>\n",
       "    <tr>\n",
       "      <th>min</th>\n",
       "      <td>1.000000e+00</td>\n",
       "      <td>8.406720e+08</td>\n",
       "      <td>0.000000e+00</td>\n",
       "      <td>1.000000e+00</td>\n",
       "      <td>0.000000e+00</td>\n",
       "      <td>1.000000e+00</td>\n",
       "      <td>1.000000e+00</td>\n",
       "      <td>1.000000e-02</td>\n",
       "      <td>3.000000e+00</td>\n",
       "    </tr>\n",
       "    <tr>\n",
       "      <th>25%</th>\n",
       "      <td>1.430000e+02</td>\n",
       "      <td>1.173224e+09</td>\n",
       "      <td>3.500000e+00</td>\n",
       "      <td>3.500000e+00</td>\n",
       "      <td>3.500000e+00</td>\n",
       "      <td>3.500000e+00</td>\n",
       "      <td>3.500000e+00</td>\n",
       "      <td>5.200000e+00</td>\n",
       "      <td>1.717000e+03</td>\n",
       "    </tr>\n",
       "    <tr>\n",
       "      <th>50%</th>\n",
       "      <td>4.290000e+02</td>\n",
       "      <td>1.239203e+09</td>\n",
       "      <td>4.000000e+00</td>\n",
       "      <td>4.000000e+00</td>\n",
       "      <td>4.000000e+00</td>\n",
       "      <td>4.000000e+00</td>\n",
       "      <td>4.000000e+00</td>\n",
       "      <td>6.500000e+00</td>\n",
       "      <td>1.390600e+04</td>\n",
       "    </tr>\n",
       "    <tr>\n",
       "      <th>75%</th>\n",
       "      <td>2.372000e+03</td>\n",
       "      <td>1.288568e+09</td>\n",
       "      <td>4.500000e+00</td>\n",
       "      <td>4.000000e+00</td>\n",
       "      <td>4.000000e+00</td>\n",
       "      <td>4.000000e+00</td>\n",
       "      <td>4.500000e+00</td>\n",
       "      <td>8.500000e+00</td>\n",
       "      <td>3.944100e+04</td>\n",
       "    </tr>\n",
       "    <tr>\n",
       "      <th>max</th>\n",
       "      <td>2.800300e+04</td>\n",
       "      <td>1.326285e+09</td>\n",
       "      <td>5.000000e+00</td>\n",
       "      <td>5.000000e+00</td>\n",
       "      <td>5.000000e+00</td>\n",
       "      <td>5.000000e+00</td>\n",
       "      <td>5.000000e+00</td>\n",
       "      <td>5.770000e+01</td>\n",
       "      <td>7.731700e+04</td>\n",
       "    </tr>\n",
       "  </tbody>\n",
       "</table>\n",
       "</div>"
      ],
      "text/plain": [
       "         brewery_id   review_time  review_overall  review_aroma  \\\n",
       "count  1.586614e+06  1.586614e+06    1.586614e+06  1.586614e+06   \n",
       "mean   3.130099e+03  1.224089e+09    3.815581e+00  3.735636e+00   \n",
       "std    5.578104e+03  7.654427e+07    7.206219e-01  6.976167e-01   \n",
       "min    1.000000e+00  8.406720e+08    0.000000e+00  1.000000e+00   \n",
       "25%    1.430000e+02  1.173224e+09    3.500000e+00  3.500000e+00   \n",
       "50%    4.290000e+02  1.239203e+09    4.000000e+00  4.000000e+00   \n",
       "75%    2.372000e+03  1.288568e+09    4.500000e+00  4.000000e+00   \n",
       "max    2.800300e+04  1.326285e+09    5.000000e+00  5.000000e+00   \n",
       "\n",
       "       review_appearance  review_palate  review_taste      beer_abv  \\\n",
       "count       1.586614e+06   1.586614e+06  1.586614e+06  1.518829e+06   \n",
       "mean        3.841642e+00   3.743701e+00  3.792860e+00  7.042387e+00   \n",
       "std         6.160928e-01   6.822184e-01  7.319696e-01  2.322526e+00   \n",
       "min         0.000000e+00   1.000000e+00  1.000000e+00  1.000000e-02   \n",
       "25%         3.500000e+00   3.500000e+00  3.500000e+00  5.200000e+00   \n",
       "50%         4.000000e+00   4.000000e+00  4.000000e+00  6.500000e+00   \n",
       "75%         4.000000e+00   4.000000e+00  4.500000e+00  8.500000e+00   \n",
       "max         5.000000e+00   5.000000e+00  5.000000e+00  5.770000e+01   \n",
       "\n",
       "        beer_beerid  \n",
       "count  1.586614e+06  \n",
       "mean   2.171279e+04  \n",
       "std    2.181834e+04  \n",
       "min    3.000000e+00  \n",
       "25%    1.717000e+03  \n",
       "50%    1.390600e+04  \n",
       "75%    3.944100e+04  \n",
       "max    7.731700e+04  "
      ]
     },
     "execution_count": 6,
     "metadata": {},
     "output_type": "execute_result"
    }
   ],
   "source": [
    "df.describe()"
   ]
  },
  {
   "cell_type": "code",
   "execution_count": 7,
   "metadata": {},
   "outputs": [
    {
     "data": {
      "text/html": [
       "<div>\n",
       "<style scoped>\n",
       "    .dataframe tbody tr th:only-of-type {\n",
       "        vertical-align: middle;\n",
       "    }\n",
       "\n",
       "    .dataframe tbody tr th {\n",
       "        vertical-align: top;\n",
       "    }\n",
       "\n",
       "    .dataframe thead th {\n",
       "        text-align: right;\n",
       "    }\n",
       "</style>\n",
       "<table border=\"1\" class=\"dataframe\">\n",
       "  <thead>\n",
       "    <tr style=\"text-align: right;\">\n",
       "      <th></th>\n",
       "      <th>brewery_id</th>\n",
       "      <th>brewery_name</th>\n",
       "      <th>review_time</th>\n",
       "      <th>review_overall</th>\n",
       "      <th>review_aroma</th>\n",
       "      <th>review_appearance</th>\n",
       "      <th>review_profilename</th>\n",
       "      <th>beer_style</th>\n",
       "      <th>review_palate</th>\n",
       "      <th>review_taste</th>\n",
       "      <th>beer_name</th>\n",
       "      <th>beer_abv</th>\n",
       "      <th>beer_beerid</th>\n",
       "    </tr>\n",
       "  </thead>\n",
       "  <tbody>\n",
       "    <tr>\n",
       "      <th>37234</th>\n",
       "      <td>1413</td>\n",
       "      <td>Desert Edge Brewery</td>\n",
       "      <td>1030197670</td>\n",
       "      <td>0.0</td>\n",
       "      <td>2.0</td>\n",
       "      <td>0.0</td>\n",
       "      <td>beernut7</td>\n",
       "      <td>Czech Pilsener</td>\n",
       "      <td>3.0</td>\n",
       "      <td>2.0</td>\n",
       "      <td>Pub Pils</td>\n",
       "      <td>4.0</td>\n",
       "      <td>3806</td>\n",
       "    </tr>\n",
       "    <tr>\n",
       "      <th>39648</th>\n",
       "      <td>1413</td>\n",
       "      <td>Desert Edge Brewery</td>\n",
       "      <td>1030267158</td>\n",
       "      <td>0.0</td>\n",
       "      <td>4.0</td>\n",
       "      <td>0.0</td>\n",
       "      <td>beernut7</td>\n",
       "      <td>Irish Dry Stout</td>\n",
       "      <td>2.0</td>\n",
       "      <td>2.0</td>\n",
       "      <td>Latter Days Stout</td>\n",
       "      <td>4.0</td>\n",
       "      <td>3804</td>\n",
       "    </tr>\n",
       "    <tr>\n",
       "      <th>39667</th>\n",
       "      <td>1413</td>\n",
       "      <td>Desert Edge Brewery</td>\n",
       "      <td>1030266889</td>\n",
       "      <td>0.0</td>\n",
       "      <td>3.0</td>\n",
       "      <td>0.0</td>\n",
       "      <td>beernut7</td>\n",
       "      <td>American Pale Ale (APA)</td>\n",
       "      <td>2.0</td>\n",
       "      <td>2.0</td>\n",
       "      <td>Utah Pale Ale</td>\n",
       "      <td>4.0</td>\n",
       "      <td>3810</td>\n",
       "    </tr>\n",
       "    <tr>\n",
       "      <th>653695</th>\n",
       "      <td>1412</td>\n",
       "      <td>Red Rock Brewing Company</td>\n",
       "      <td>1030007859</td>\n",
       "      <td>0.0</td>\n",
       "      <td>2.0</td>\n",
       "      <td>0.0</td>\n",
       "      <td>beernut7</td>\n",
       "      <td>Hefeweizen</td>\n",
       "      <td>2.5</td>\n",
       "      <td>2.0</td>\n",
       "      <td>Red Rock Bavarian Weiss</td>\n",
       "      <td>4.0</td>\n",
       "      <td>3788</td>\n",
       "    </tr>\n",
       "    <tr>\n",
       "      <th>653706</th>\n",
       "      <td>1412</td>\n",
       "      <td>Red Rock Brewing Company</td>\n",
       "      <td>1030008142</td>\n",
       "      <td>0.0</td>\n",
       "      <td>3.0</td>\n",
       "      <td>0.0</td>\n",
       "      <td>beernut7</td>\n",
       "      <td>American Amber / Red Ale</td>\n",
       "      <td>2.5</td>\n",
       "      <td>3.5</td>\n",
       "      <td>Red Rock Amber Ale</td>\n",
       "      <td>4.0</td>\n",
       "      <td>3787</td>\n",
       "    </tr>\n",
       "    <tr>\n",
       "      <th>653726</th>\n",
       "      <td>1412</td>\n",
       "      <td>Red Rock Brewing Company</td>\n",
       "      <td>1030007737</td>\n",
       "      <td>0.0</td>\n",
       "      <td>2.0</td>\n",
       "      <td>0.0</td>\n",
       "      <td>beernut7</td>\n",
       "      <td>German Pilsener</td>\n",
       "      <td>3.0</td>\n",
       "      <td>1.5</td>\n",
       "      <td>Red Rock Pilsner</td>\n",
       "      <td>4.0</td>\n",
       "      <td>3822</td>\n",
       "    </tr>\n",
       "    <tr>\n",
       "      <th>653740</th>\n",
       "      <td>1412</td>\n",
       "      <td>Red Rock Brewing Company</td>\n",
       "      <td>1030008039</td>\n",
       "      <td>0.0</td>\n",
       "      <td>2.0</td>\n",
       "      <td>0.0</td>\n",
       "      <td>beernut7</td>\n",
       "      <td>Dunkelweizen</td>\n",
       "      <td>2.5</td>\n",
       "      <td>2.0</td>\n",
       "      <td>Red Rock Dunkel Weizen</td>\n",
       "      <td>4.0</td>\n",
       "      <td>3786</td>\n",
       "    </tr>\n",
       "  </tbody>\n",
       "</table>\n",
       "</div>"
      ],
      "text/plain": [
       "        brewery_id              brewery_name  review_time  review_overall  \\\n",
       "37234         1413       Desert Edge Brewery   1030197670             0.0   \n",
       "39648         1413       Desert Edge Brewery   1030267158             0.0   \n",
       "39667         1413       Desert Edge Brewery   1030266889             0.0   \n",
       "653695        1412  Red Rock Brewing Company   1030007859             0.0   \n",
       "653706        1412  Red Rock Brewing Company   1030008142             0.0   \n",
       "653726        1412  Red Rock Brewing Company   1030007737             0.0   \n",
       "653740        1412  Red Rock Brewing Company   1030008039             0.0   \n",
       "\n",
       "        review_aroma  review_appearance review_profilename  \\\n",
       "37234            2.0                0.0           beernut7   \n",
       "39648            4.0                0.0           beernut7   \n",
       "39667            3.0                0.0           beernut7   \n",
       "653695           2.0                0.0           beernut7   \n",
       "653706           3.0                0.0           beernut7   \n",
       "653726           2.0                0.0           beernut7   \n",
       "653740           2.0                0.0           beernut7   \n",
       "\n",
       "                      beer_style  review_palate  review_taste  \\\n",
       "37234             Czech Pilsener            3.0           2.0   \n",
       "39648            Irish Dry Stout            2.0           2.0   \n",
       "39667    American Pale Ale (APA)            2.0           2.0   \n",
       "653695                Hefeweizen            2.5           2.0   \n",
       "653706  American Amber / Red Ale            2.5           3.5   \n",
       "653726           German Pilsener            3.0           1.5   \n",
       "653740              Dunkelweizen            2.5           2.0   \n",
       "\n",
       "                      beer_name  beer_abv  beer_beerid  \n",
       "37234                  Pub Pils       4.0         3806  \n",
       "39648         Latter Days Stout       4.0         3804  \n",
       "39667             Utah Pale Ale       4.0         3810  \n",
       "653695  Red Rock Bavarian Weiss       4.0         3788  \n",
       "653706       Red Rock Amber Ale       4.0         3787  \n",
       "653726         Red Rock Pilsner       4.0         3822  \n",
       "653740   Red Rock Dunkel Weizen       4.0         3786  "
      ]
     },
     "execution_count": 7,
     "metadata": {},
     "output_type": "execute_result"
    }
   ],
   "source": [
    "# review_overall shows 0 - does this mean it wasn't reviewed and can be excluded from model?\n",
    "df.loc[df['review_overall']==0]"
   ]
  },
  {
   "cell_type": "code",
   "execution_count": 8,
   "metadata": {},
   "outputs": [
    {
     "data": {
      "text/plain": [
       "brewery_id            False\n",
       "brewery_name           True\n",
       "review_time           False\n",
       "review_overall        False\n",
       "review_aroma          False\n",
       "review_appearance     False\n",
       "review_profilename     True\n",
       "beer_style            False\n",
       "review_palate         False\n",
       "review_taste          False\n",
       "beer_name             False\n",
       "beer_abv               True\n",
       "beer_beerid           False\n",
       "dtype: bool"
      ]
     },
     "execution_count": 8,
     "metadata": {},
     "output_type": "execute_result"
    }
   ],
   "source": [
    "df.isnull().any()"
   ]
  },
  {
   "cell_type": "code",
   "execution_count": 9,
   "metadata": {},
   "outputs": [
    {
     "data": {
      "text/plain": [
       "brewery_id                0\n",
       "brewery_name             15\n",
       "review_time               0\n",
       "review_overall            0\n",
       "review_aroma              0\n",
       "review_appearance         0\n",
       "review_profilename      348\n",
       "beer_style                0\n",
       "review_palate             0\n",
       "review_taste              0\n",
       "beer_name                 0\n",
       "beer_abv              67785\n",
       "beer_beerid               0\n",
       "dtype: int64"
      ]
     },
     "execution_count": 9,
     "metadata": {},
     "output_type": "execute_result"
    }
   ],
   "source": [
    "df.isnull().sum()"
   ]
  },
  {
   "cell_type": "code",
   "execution_count": 10,
   "metadata": {},
   "outputs": [
    {
     "data": {
      "text/plain": [
       "brewery_id            0.000000\n",
       "brewery_name          0.000945\n",
       "review_time           0.000000\n",
       "review_overall        0.000000\n",
       "review_aroma          0.000000\n",
       "review_appearance     0.000000\n",
       "review_profilename    0.021934\n",
       "beer_style            0.000000\n",
       "review_palate         0.000000\n",
       "review_taste          0.000000\n",
       "beer_name             0.000000\n",
       "beer_abv              4.272306\n",
       "beer_beerid           0.000000\n",
       "dtype: float64"
      ]
     },
     "execution_count": 10,
     "metadata": {},
     "output_type": "execute_result"
    }
   ],
   "source": [
    "df.isnull().sum() * 100 / len(df)"
   ]
  },
  {
   "cell_type": "code",
   "execution_count": 11,
   "metadata": {},
   "outputs": [
    {
     "name": "stdout",
     "output_type": "stream",
     "text": [
      "brewery_id: False\n",
      "brewery_name: False\n",
      "review_time: False\n",
      "review_overall: False\n",
      "review_aroma: False\n",
      "review_appearance: False\n",
      "review_profilename: False\n",
      "beer_style: False\n",
      "review_palate: False\n",
      "review_taste: False\n",
      "beer_name: False\n",
      "beer_abv: False\n",
      "beer_beerid: False\n"
     ]
    }
   ],
   "source": [
    "# check for id column / unique column\n",
    "for col in df:\n",
    "    print(f'{col}: {df[col].is_unique}')"
   ]
  },
  {
   "cell_type": "code",
   "execution_count": 12,
   "metadata": {},
   "outputs": [
    {
     "name": "stdout",
     "output_type": "stream",
     "text": [
      "brewery_id : 5840\n",
      "brewery_name : 5743\n",
      "review_time : 1577960\n",
      "review_overall : 10\n",
      "review_aroma : 9\n",
      "review_appearance : 10\n",
      "review_profilename : 33388\n",
      "beer_style : 104\n",
      "review_palate : 9\n",
      "review_taste : 9\n",
      "beer_name : 56857\n",
      "beer_abv : 531\n",
      "beer_beerid : 66055\n"
     ]
    }
   ],
   "source": [
    "# unique values in each columns\n",
    "for x in df.columns:\n",
    "    #printing unique values\n",
    "    print(x ,':', len(df[x].unique()))"
   ]
  },
  {
   "cell_type": "code",
   "execution_count": 13,
   "metadata": {},
   "outputs": [
    {
     "name": "stdout",
     "output_type": "stream",
     "text": [
      "['Hefeweizen' 'English Strong Ale' 'Foreign / Export Stout'\n",
      " 'German Pilsener' 'American Double / Imperial IPA' 'Herbed / Spiced Beer'\n",
      " 'Light Lager' 'Oatmeal Stout' 'American Pale Lager' 'Rauchbier'\n",
      " 'American Pale Ale (APA)' 'American Porter' 'Belgian Strong Dark Ale'\n",
      " 'American IPA' 'American Stout' 'Russian Imperial Stout'\n",
      " 'American Amber / Red Ale' 'American Strong Ale' 'Märzen / Oktoberfest'\n",
      " 'American Adjunct Lager' 'American Blonde Ale' 'Euro Pale Lager'\n",
      " 'English Brown Ale' 'Scotch Ale / Wee Heavy' 'Fruit / Vegetable Beer'\n",
      " 'American Double / Imperial Stout' 'Belgian Pale Ale' 'English Bitter'\n",
      " 'English Porter' 'Irish Dry Stout' 'American Barleywine'\n",
      " 'Belgian Strong Pale Ale' 'Doppelbock' 'Maibock / Helles Bock'\n",
      " 'Pumpkin Ale' 'Dortmunder / Export Lager' 'Euro Strong Lager'\n",
      " 'Euro Dark Lager' 'Low Alcohol Beer' 'Weizenbock'\n",
      " 'Extra Special / Strong Bitter (ESB)' 'Bock'\n",
      " 'English India Pale Ale (IPA)' 'Altbier' 'Kölsch' 'Munich Dunkel Lager'\n",
      " 'Rye Beer' 'American Pale Wheat Ale' 'Milk / Sweet Stout' 'Schwarzbier'\n",
      " 'Vienna Lager' 'American Amber / Red Lager' 'Scottish Ale' 'Witbier'\n",
      " 'American Black Ale' 'Saison / Farmhouse Ale' 'English Barleywine'\n",
      " 'English Dark Mild Ale' 'California Common / Steam Beer' 'Czech Pilsener'\n",
      " 'English Pale Ale' 'Belgian IPA' 'Tripel' 'Flanders Oud Bruin'\n",
      " 'American Brown Ale' 'Winter Warmer' 'Smoked Beer' 'Dubbel'\n",
      " 'Flanders Red Ale' 'Dunkelweizen' 'Roggenbier'\n",
      " 'Keller Bier / Zwickel Bier' 'Belgian Dark Ale' 'Bière de Garde'\n",
      " 'Japanese Rice Lager' 'Black & Tan' 'Irish Red Ale' 'Chile Beer'\n",
      " 'English Stout' 'Cream Ale' 'American Wild Ale'\n",
      " 'American Double / Imperial Pilsner'\n",
      " 'Scottish Gruit / Ancient Herbed Ale' 'Wheatwine'\n",
      " 'American Dark Wheat Ale' 'American Malt Liquor' 'Baltic Porter'\n",
      " 'Munich Helles Lager' 'Kristalweizen' 'English Pale Mild Ale'\n",
      " 'Lambic - Fruit' 'Old Ale' 'Quadrupel (Quad)' 'Braggot'\n",
      " 'Lambic - Unblended' 'Eisbock' 'Berliner Weissbier' 'Kvass' 'Faro'\n",
      " 'Gueuze' 'Gose' 'Happoshu' 'Sahti' 'Bière de Champagne / Bière Brut']\n"
     ]
    },
    {
     "data": {
      "text/plain": [
       "American IPA                        117586\n",
       "American Double / Imperial IPA       85977\n",
       "American Pale Ale (APA)              63469\n",
       "Russian Imperial Stout               54129\n",
       "American Double / Imperial Stout     50705\n",
       "American Porter                      50477\n",
       "American Amber / Red Ale             45751\n",
       "Belgian Strong Dark Ale              37743\n",
       "Fruit / Vegetable Beer               33861\n",
       "American Strong Ale                  31945\n",
       "Belgian Strong Pale Ale              31490\n",
       "Saison / Farmhouse Ale               31480\n",
       "American Adjunct Lager               30749\n",
       "Tripel                               30328\n",
       "Witbier                              30140\n",
       "Hefeweizen                           27908\n",
       "American Barleywine                  26728\n",
       "American Brown Ale                   25297\n",
       "American Stout                       24538\n",
       "American Pale Wheat Ale              24204\n",
       "Märzen / Oktoberfest                 23523\n",
       "English Pale Ale                     23402\n",
       "German Pilsener                      22155\n",
       "Doppelbock                           21699\n",
       "Winter Warmer                        20661\n",
       "Name: beer_style, dtype: int64"
      ]
     },
     "execution_count": 13,
     "metadata": {},
     "output_type": "execute_result"
    }
   ],
   "source": [
    "# unique counts of target variable\n",
    "print(df['beer_style'].unique())\n",
    "df['beer_style'].value_counts().head(25)"
   ]
  },
  {
   "cell_type": "code",
   "execution_count": 14,
   "metadata": {},
   "outputs": [],
   "source": [
    "df_cleaned = df.copy()"
   ]
  },
  {
   "cell_type": "code",
   "execution_count": 15,
   "metadata": {},
   "outputs": [],
   "source": [
    "df_cleaned.drop(['review_profilename', 'beer_name'], axis=1, inplace=True)\n",
    "df_cleaned.drop_duplicates(inplace= True)\n",
    "df_cleaned.columns = df_cleaned.columns.str.strip()\n",
    "#target = df_cleaned.pop('beer_style')"
   ]
  },
  {
   "cell_type": "code",
   "execution_count": 16,
   "metadata": {},
   "outputs": [],
   "source": [
    "#df_cleaned['review_time']=pd.to_datetime(df_cleaned['review_time'],unit='s')\n",
    "\n",
    "#print(df_cleaned.dtypes)\n",
    "\n",
    "#df_cleaned.head()"
   ]
  },
  {
   "cell_type": "code",
   "execution_count": 17,
   "metadata": {},
   "outputs": [],
   "source": [
    "# handle null values in brewery_name, beer_abv\n",
    "\n",
    "#from sklearn.impute import SimpleImputer\n",
    "#num_imputer = SimpleImputer(missing_values=np.nan, strategy='mean')\n",
    "#cat_imputer = SimpleImputer(missing_values=np.nan, strategy='constant', fill_value='Unknown')\n",
    "#cat_imputer = SimpleImputer(missing_values=np.nan, strategy='most_frequent')\n",
    "\n",
    "#df_cleaned[['beer_abv']] = num_imputer.fit_transform(df_cleaned[['beer_abv']])\n",
    "#df_cleaned[['brewery_name']] = cat_imputer.fit_transform(df_cleaned[[,'brewery_name']])"
   ]
  },
  {
   "cell_type": "code",
   "execution_count": 18,
   "metadata": {},
   "outputs": [],
   "source": [
    "# handle null values in brewery_name, beer_abv\n",
    "\n",
    "#df_cleaned['beer_abv'] = df_cleaned['beer_abv'].replace(np.nan, df_cleaned['beer_abv'].mean())\n",
    "#df_cleaned['brewery_name'] = df_cleaned['brewery_name'].fillna('Unknown')\n",
    "\n",
    "# OR DROP\n",
    "df_cleaned.dropna(inplace=True)\n",
    "df_cleaned.reset_index(drop=True, inplace=True)"
   ]
  },
  {
   "cell_type": "code",
   "execution_count": 19,
   "metadata": {},
   "outputs": [
    {
     "data": {
      "text/plain": [
       "brewery_id           0.0\n",
       "brewery_name         0.0\n",
       "review_time          0.0\n",
       "review_overall       0.0\n",
       "review_aroma         0.0\n",
       "review_appearance    0.0\n",
       "beer_style           0.0\n",
       "review_palate        0.0\n",
       "review_taste         0.0\n",
       "beer_abv             0.0\n",
       "beer_beerid          0.0\n",
       "dtype: float64"
      ]
     },
     "execution_count": 19,
     "metadata": {},
     "output_type": "execute_result"
    }
   ],
   "source": [
    "df_cleaned.isnull().sum() * 100 / len(df_cleaned)"
   ]
  },
  {
   "cell_type": "code",
   "execution_count": 20,
   "metadata": {},
   "outputs": [],
   "source": [
    "from sklearn.preprocessing import StandardScaler, LabelEncoder, OrdinalEncoder, OneHotEncoder"
   ]
  },
  {
   "cell_type": "code",
   "execution_count": 21,
   "metadata": {},
   "outputs": [],
   "source": [
    "sc = StandardScaler()"
   ]
  },
  {
   "cell_type": "code",
   "execution_count": 22,
   "metadata": {},
   "outputs": [],
   "source": [
    "num_cols = df_cleaned.select_dtypes([np.number]).columns\n",
    "#df_cleaned.select_dtypes([np.number]).columns\n",
    "#num_cols = ['brewery_id', 'review_time', 'review_overall', 'review_aroma',\n",
    " #      'review_appearance', 'review_palate', 'review_taste', 'beer_abv',\n",
    " #      'beer_beerid']"
   ]
  },
  {
   "cell_type": "code",
   "execution_count": 23,
   "metadata": {},
   "outputs": [],
   "source": [
    "df_cleaned[num_cols] = sc.fit_transform(df_cleaned[num_cols])"
   ]
  },
  {
   "cell_type": "code",
   "execution_count": 24,
   "metadata": {},
   "outputs": [],
   "source": [
    "oe = OrdinalEncoder()\n",
    "le = LabelEncoder()"
   ]
  },
  {
   "cell_type": "code",
   "execution_count": 25,
   "metadata": {},
   "outputs": [],
   "source": [
    "cat_cols = df_cleaned.select_dtypes(exclude=[np.number]).columns\n",
    "#df_cleaned.select_dtypes(exclude=[np.number]).columns"
   ]
  },
  {
   "cell_type": "code",
   "execution_count": 26,
   "metadata": {},
   "outputs": [
    {
     "name": "stdout",
     "output_type": "stream",
     "text": [
      "brewery_name : 5155\n",
      "beer_style : 104\n"
     ]
    }
   ],
   "source": [
    "# unique values in each columns\n",
    "for x in df_cleaned[cat_cols].columns:\n",
    "    #printing unique values\n",
    "    print(x ,':', len(df_cleaned[x].unique()))"
   ]
  },
  {
   "cell_type": "raw",
   "metadata": {},
   "source": [
    "###delete from here"
   ]
  },
  {
   "cell_type": "raw",
   "metadata": {},
   "source": [
    "ohe = OneHotEncoder(sparse=False)\n",
    "X_cat = pd.DataFrame(ohe.fit_transform(df_cleaned[cat_cols]))"
   ]
  },
  {
   "cell_type": "raw",
   "metadata": {},
   "source": [
    "X_cat.columns = ohe.get_feature_names(cat_cols)"
   ]
  },
  {
   "cell_type": "raw",
   "metadata": {},
   "source": [
    "df_cleaned.drop(cat_cols, axis=1, inplace=True)"
   ]
  },
  {
   "cell_type": "raw",
   "metadata": {},
   "source": [
    "X = pd.concat([df_cleaned, X_cat], axis=1)"
   ]
  },
  {
   "cell_type": "raw",
   "metadata": {},
   "source": [
    "from src.data.sets import split_sets_by_time, save_sets\n",
    "X_train, y_train, X_val, y_val, X_test, y_test = split_sets_by_time(X, target_col='pm2.5', test_ratio=0.2)\n",
    "\n",
    "save_sets(X_train=X_train, y_train=y_train, X_val=X_val, y_val=y_val, X_test=X_test, y_test=y_test, path='../data/processed/')"
   ]
  },
  {
   "cell_type": "raw",
   "metadata": {},
   "source": [
    "#### didn't work on so many columns"
   ]
  },
  {
   "cell_type": "code",
   "execution_count": 27,
   "metadata": {},
   "outputs": [],
   "source": [
    "df_cleaned['beer_style'] = le.fit_transform(df_cleaned['beer_style'])\n",
    "df_cleaned['brewery_name'] = oe.fit_transform(df_cleaned['brewery_name'].values.reshape(-1,1))"
   ]
  },
  {
   "cell_type": "code",
   "execution_count": 28,
   "metadata": {},
   "outputs": [
    {
     "data": {
      "text/html": [
       "<div>\n",
       "<style scoped>\n",
       "    .dataframe tbody tr th:only-of-type {\n",
       "        vertical-align: middle;\n",
       "    }\n",
       "\n",
       "    .dataframe tbody tr th {\n",
       "        vertical-align: top;\n",
       "    }\n",
       "\n",
       "    .dataframe thead th {\n",
       "        text-align: right;\n",
       "    }\n",
       "</style>\n",
       "<table border=\"1\" class=\"dataframe\">\n",
       "  <thead>\n",
       "    <tr style=\"text-align: right;\">\n",
       "      <th></th>\n",
       "      <th>brewery_id</th>\n",
       "      <th>brewery_name</th>\n",
       "      <th>review_time</th>\n",
       "      <th>review_overall</th>\n",
       "      <th>review_aroma</th>\n",
       "      <th>review_appearance</th>\n",
       "      <th>beer_style</th>\n",
       "      <th>review_palate</th>\n",
       "      <th>review_taste</th>\n",
       "      <th>beer_abv</th>\n",
       "      <th>beer_beerid</th>\n",
       "    </tr>\n",
       "  </thead>\n",
       "  <tbody>\n",
       "    <tr>\n",
       "      <th>0</th>\n",
       "      <td>1.307921</td>\n",
       "      <td>4886.0</td>\n",
       "      <td>0.125243</td>\n",
       "      <td>-3.239805</td>\n",
       "      <td>-2.511042</td>\n",
       "      <td>-2.198046</td>\n",
       "      <td>65</td>\n",
       "      <td>-3.317269</td>\n",
       "      <td>-3.161966</td>\n",
       "      <td>-0.879383</td>\n",
       "      <td>1.220545</td>\n",
       "    </tr>\n",
       "    <tr>\n",
       "      <th>1</th>\n",
       "      <td>1.307921</td>\n",
       "      <td>4886.0</td>\n",
       "      <td>0.139712</td>\n",
       "      <td>-1.148609</td>\n",
       "      <td>-1.792027</td>\n",
       "      <td>-1.384166</td>\n",
       "      <td>51</td>\n",
       "      <td>-1.109371</td>\n",
       "      <td>-1.103412</td>\n",
       "      <td>-0.362706</td>\n",
       "      <td>1.230967</td>\n",
       "    </tr>\n",
       "    <tr>\n",
       "      <th>2</th>\n",
       "      <td>1.307921</td>\n",
       "      <td>4886.0</td>\n",
       "      <td>0.139732</td>\n",
       "      <td>-1.148609</td>\n",
       "      <td>-1.792027</td>\n",
       "      <td>-1.384166</td>\n",
       "      <td>59</td>\n",
       "      <td>-1.109371</td>\n",
       "      <td>-1.103412</td>\n",
       "      <td>-0.233536</td>\n",
       "      <td>1.231059</td>\n",
       "    </tr>\n",
       "    <tr>\n",
       "      <th>3</th>\n",
       "      <td>1.307921</td>\n",
       "      <td>4886.0</td>\n",
       "      <td>0.124021</td>\n",
       "      <td>-1.148609</td>\n",
       "      <td>-1.073011</td>\n",
       "      <td>-0.570286</td>\n",
       "      <td>61</td>\n",
       "      <td>-1.845337</td>\n",
       "      <td>-1.103412</td>\n",
       "      <td>-0.879383</td>\n",
       "      <td>1.219764</td>\n",
       "    </tr>\n",
       "    <tr>\n",
       "      <th>4</th>\n",
       "      <td>-0.360576</td>\n",
       "      <td>1360.0</td>\n",
       "      <td>0.902161</td>\n",
       "      <td>0.245522</td>\n",
       "      <td>1.084037</td>\n",
       "      <td>0.243594</td>\n",
       "      <td>9</td>\n",
       "      <td>0.362560</td>\n",
       "      <td>0.955142</td>\n",
       "      <td>0.283141</td>\n",
       "      <td>1.996374</td>\n",
       "    </tr>\n",
       "  </tbody>\n",
       "</table>\n",
       "</div>"
      ],
      "text/plain": [
       "   brewery_id  brewery_name  review_time  review_overall  review_aroma  \\\n",
       "0    1.307921        4886.0     0.125243       -3.239805     -2.511042   \n",
       "1    1.307921        4886.0     0.139712       -1.148609     -1.792027   \n",
       "2    1.307921        4886.0     0.139732       -1.148609     -1.792027   \n",
       "3    1.307921        4886.0     0.124021       -1.148609     -1.073011   \n",
       "4   -0.360576        1360.0     0.902161        0.245522      1.084037   \n",
       "\n",
       "   review_appearance  beer_style  review_palate  review_taste  beer_abv  \\\n",
       "0          -2.198046          65      -3.317269     -3.161966 -0.879383   \n",
       "1          -1.384166          51      -1.109371     -1.103412 -0.362706   \n",
       "2          -1.384166          59      -1.109371     -1.103412 -0.233536   \n",
       "3          -0.570286          61      -1.845337     -1.103412 -0.879383   \n",
       "4           0.243594           9       0.362560      0.955142  0.283141   \n",
       "\n",
       "   beer_beerid  \n",
       "0     1.220545  \n",
       "1     1.230967  \n",
       "2     1.231059  \n",
       "3     1.219764  \n",
       "4     1.996374  "
      ]
     },
     "execution_count": 28,
     "metadata": {},
     "output_type": "execute_result"
    }
   ],
   "source": [
    "df_cleaned.head()"
   ]
  },
  {
   "cell_type": "code",
   "execution_count": 60,
   "metadata": {},
   "outputs": [],
   "source": [
    "# INVERSE ENCODING\n",
    "#df_cleaned['beer_style'] = le.inverse_transform(df_cleaned['beer_style'])\n",
    "#df_cleaned['brewery_name'] = oe.inverse_transform(df_cleaned['brewery_name'].values.reshape(-1,1))"
   ]
  },
  {
   "cell_type": "code",
   "execution_count": 30,
   "metadata": {},
   "outputs": [
    {
     "data": {
      "text/html": [
       "<div>\n",
       "<style scoped>\n",
       "    .dataframe tbody tr th:only-of-type {\n",
       "        vertical-align: middle;\n",
       "    }\n",
       "\n",
       "    .dataframe tbody tr th {\n",
       "        vertical-align: top;\n",
       "    }\n",
       "\n",
       "    .dataframe thead th {\n",
       "        text-align: right;\n",
       "    }\n",
       "</style>\n",
       "<table border=\"1\" class=\"dataframe\">\n",
       "  <thead>\n",
       "    <tr style=\"text-align: right;\">\n",
       "      <th></th>\n",
       "      <th>brewery_id</th>\n",
       "      <th>brewery_name</th>\n",
       "      <th>review_time</th>\n",
       "      <th>review_overall</th>\n",
       "      <th>review_aroma</th>\n",
       "      <th>review_appearance</th>\n",
       "      <th>beer_style</th>\n",
       "      <th>review_palate</th>\n",
       "      <th>review_taste</th>\n",
       "      <th>beer_abv</th>\n",
       "      <th>beer_beerid</th>\n",
       "    </tr>\n",
       "  </thead>\n",
       "  <tbody>\n",
       "    <tr>\n",
       "      <th>0</th>\n",
       "      <td>1.307921</td>\n",
       "      <td>4886.0</td>\n",
       "      <td>0.125243</td>\n",
       "      <td>-3.239805</td>\n",
       "      <td>-2.511042</td>\n",
       "      <td>-2.198046</td>\n",
       "      <td>65</td>\n",
       "      <td>-3.317269</td>\n",
       "      <td>-3.161966</td>\n",
       "      <td>-0.879383</td>\n",
       "      <td>1.220545</td>\n",
       "    </tr>\n",
       "    <tr>\n",
       "      <th>1</th>\n",
       "      <td>1.307921</td>\n",
       "      <td>4886.0</td>\n",
       "      <td>0.139712</td>\n",
       "      <td>-1.148609</td>\n",
       "      <td>-1.792027</td>\n",
       "      <td>-1.384166</td>\n",
       "      <td>51</td>\n",
       "      <td>-1.109371</td>\n",
       "      <td>-1.103412</td>\n",
       "      <td>-0.362706</td>\n",
       "      <td>1.230967</td>\n",
       "    </tr>\n",
       "    <tr>\n",
       "      <th>2</th>\n",
       "      <td>1.307921</td>\n",
       "      <td>4886.0</td>\n",
       "      <td>0.139732</td>\n",
       "      <td>-1.148609</td>\n",
       "      <td>-1.792027</td>\n",
       "      <td>-1.384166</td>\n",
       "      <td>59</td>\n",
       "      <td>-1.109371</td>\n",
       "      <td>-1.103412</td>\n",
       "      <td>-0.233536</td>\n",
       "      <td>1.231059</td>\n",
       "    </tr>\n",
       "    <tr>\n",
       "      <th>3</th>\n",
       "      <td>1.307921</td>\n",
       "      <td>4886.0</td>\n",
       "      <td>0.124021</td>\n",
       "      <td>-1.148609</td>\n",
       "      <td>-1.073011</td>\n",
       "      <td>-0.570286</td>\n",
       "      <td>61</td>\n",
       "      <td>-1.845337</td>\n",
       "      <td>-1.103412</td>\n",
       "      <td>-0.879383</td>\n",
       "      <td>1.219764</td>\n",
       "    </tr>\n",
       "    <tr>\n",
       "      <th>4</th>\n",
       "      <td>-0.360576</td>\n",
       "      <td>1360.0</td>\n",
       "      <td>0.902161</td>\n",
       "      <td>0.245522</td>\n",
       "      <td>1.084037</td>\n",
       "      <td>0.243594</td>\n",
       "      <td>9</td>\n",
       "      <td>0.362560</td>\n",
       "      <td>0.955142</td>\n",
       "      <td>0.283141</td>\n",
       "      <td>1.996374</td>\n",
       "    </tr>\n",
       "  </tbody>\n",
       "</table>\n",
       "</div>"
      ],
      "text/plain": [
       "   brewery_id  brewery_name  review_time  review_overall  review_aroma  \\\n",
       "0    1.307921        4886.0     0.125243       -3.239805     -2.511042   \n",
       "1    1.307921        4886.0     0.139712       -1.148609     -1.792027   \n",
       "2    1.307921        4886.0     0.139732       -1.148609     -1.792027   \n",
       "3    1.307921        4886.0     0.124021       -1.148609     -1.073011   \n",
       "4   -0.360576        1360.0     0.902161        0.245522      1.084037   \n",
       "\n",
       "   review_appearance  beer_style  review_palate  review_taste  beer_abv  \\\n",
       "0          -2.198046          65      -3.317269     -3.161966 -0.879383   \n",
       "1          -1.384166          51      -1.109371     -1.103412 -0.362706   \n",
       "2          -1.384166          59      -1.109371     -1.103412 -0.233536   \n",
       "3          -0.570286          61      -1.845337     -1.103412 -0.879383   \n",
       "4           0.243594           9       0.362560      0.955142  0.283141   \n",
       "\n",
       "   beer_beerid  \n",
       "0     1.220545  \n",
       "1     1.230967  \n",
       "2     1.231059  \n",
       "3     1.219764  \n",
       "4     1.996374  "
      ]
     },
     "execution_count": 30,
     "metadata": {},
     "output_type": "execute_result"
    }
   ],
   "source": [
    "df_cleaned.head()"
   ]
  },
  {
   "cell_type": "code",
   "execution_count": 32,
   "metadata": {},
   "outputs": [],
   "source": [
    "from src.data.sets import split_sets_by_time, save_sets"
   ]
  },
  {
   "cell_type": "code",
   "execution_count": 33,
   "metadata": {},
   "outputs": [],
   "source": [
    "X_train, y_train, X_val, y_val, X_test, y_test = split_sets_by_time(df_cleaned, target_col='beer_style', test_ratio=0.2)"
   ]
  },
  {
   "cell_type": "code",
   "execution_count": 34,
   "metadata": {},
   "outputs": [],
   "source": [
    "save_sets(X_train=X_train, y_train=y_train, X_val=X_val, y_val=y_val, X_test=X_test, y_test=y_test, path='../data/processed/')"
   ]
  },
  {
   "cell_type": "code",
   "execution_count": 36,
   "metadata": {},
   "outputs": [],
   "source": [
    "from src.models.null import NullModel"
   ]
  },
  {
   "cell_type": "code",
   "execution_count": 37,
   "metadata": {},
   "outputs": [],
   "source": [
    "baseline_model = NullModel()\n",
    "y_base = baseline_model.fit_predict(y_train)"
   ]
  },
  {
   "cell_type": "code",
   "execution_count": 39,
   "metadata": {},
   "outputs": [],
   "source": [
    "from src.models.performance import print_reg_perf"
   ]
  },
  {
   "cell_type": "code",
   "execution_count": 49,
   "metadata": {},
   "outputs": [
    {
     "name": "stdout",
     "output_type": "stream",
     "text": [
      "RMSE Training: 33.19189161320156\n",
      "MAE Training: 29.627530214496765\n"
     ]
    }
   ],
   "source": [
    "print_reg_perf(y_base, y_train, set_name='Training')"
   ]
  },
  {
   "cell_type": "code",
   "execution_count": 50,
   "metadata": {},
   "outputs": [],
   "source": [
    "import torch\n",
    "import torch.nn as nn\n",
    "import torch.nn.functional as F"
   ]
  },
  {
   "cell_type": "code",
   "execution_count": null,
   "metadata": {},
   "outputs": [],
   "source": []
  },
  {
   "cell_type": "code",
   "execution_count": 41,
   "metadata": {},
   "outputs": [],
   "source": [
    "from src.models.pytorch import PytorchRegression\n",
    "\n",
    "model = PytorchRegression(X_train.shape[1])"
   ]
  },
  {
   "cell_type": "code",
   "execution_count": 42,
   "metadata": {},
   "outputs": [
    {
     "data": {
      "text/plain": [
       "PytorchRegression(\n",
       "  (layer_1): Linear(in_features=10, out_features=128, bias=True)\n",
       "  (layer_out): Linear(in_features=128, out_features=1, bias=True)\n",
       ")"
      ]
     },
     "execution_count": 42,
     "metadata": {},
     "output_type": "execute_result"
    }
   ],
   "source": [
    "from src.models.pytorch import get_device\n",
    "\n",
    "device = get_device()\n",
    "model.to(device)"
   ]
  },
  {
   "cell_type": "code",
   "execution_count": 43,
   "metadata": {},
   "outputs": [
    {
     "name": "stdout",
     "output_type": "stream",
     "text": [
      "PytorchRegression(\n",
      "  (layer_1): Linear(in_features=10, out_features=128, bias=True)\n",
      "  (layer_out): Linear(in_features=128, out_features=1, bias=True)\n",
      ")\n"
     ]
    }
   ],
   "source": [
    "print(model)"
   ]
  },
  {
   "cell_type": "code",
   "execution_count": 52,
   "metadata": {},
   "outputs": [],
   "source": [
    "from src.models.pytorch import PytorchDataset\n",
    "\n",
    "train_dataset = PytorchDataset(X=X_train, y=y_train)\n",
    "val_dataset = PytorchDataset(X=X_val, y=y_val)\n",
    "test_dataset = PytorchDataset(X=X_test, y=y_test)"
   ]
  },
  {
   "cell_type": "code",
   "execution_count": null,
   "metadata": {},
   "outputs": [],
   "source": []
  },
  {
   "cell_type": "code",
   "execution_count": 47,
   "metadata": {},
   "outputs": [],
   "source": [
    "from torch.utils.data import DataLoader"
   ]
  },
  {
   "cell_type": "code",
   "execution_count": 51,
   "metadata": {},
   "outputs": [],
   "source": [
    "criterion = nn.MSELoss()"
   ]
  },
  {
   "cell_type": "code",
   "execution_count": 53,
   "metadata": {},
   "outputs": [],
   "source": [
    "optimizer = torch.optim.Adam(model.parameters(), lr=0.001)"
   ]
  },
  {
   "cell_type": "code",
   "execution_count": 54,
   "metadata": {},
   "outputs": [],
   "source": [
    "N_EPOCHS = 5\n",
    "BATCH_SIZE = 32"
   ]
  },
  {
   "cell_type": "code",
   "execution_count": 55,
   "metadata": {},
   "outputs": [
    {
     "name": "stderr",
     "output_type": "stream",
     "text": [
      "/opt/conda/lib/python3.7/site-packages/torch/nn/modules/loss.py:528: UserWarning: Using a target size (torch.Size([32])) that is different to the input size (torch.Size([32, 1])). This will likely lead to incorrect results due to broadcasting. Please ensure they have the same size.\n",
      "  return F.mse_loss(input, target, reduction=self.reduction)\n",
      "/opt/conda/lib/python3.7/site-packages/torch/nn/modules/loss.py:528: UserWarning: Using a target size (torch.Size([23])) that is different to the input size (torch.Size([23, 1])). This will likely lead to incorrect results due to broadcasting. Please ensure they have the same size.\n",
      "  return F.mse_loss(input, target, reduction=self.reduction)\n",
      "/opt/conda/lib/python3.7/site-packages/torch/nn/modules/loss.py:528: UserWarning: Using a target size (torch.Size([17])) that is different to the input size (torch.Size([17, 1])). This will likely lead to incorrect results due to broadcasting. Please ensure they have the same size.\n",
      "  return F.mse_loss(input, target, reduction=self.reduction)\n"
     ]
    },
    {
     "name": "stdout",
     "output_type": "stream",
     "text": [
      "Epoch: 0\n",
      "\t(train)\tLoss: 43.8080\t|\tRMSE: 6.6\n",
      "\t(valid)\tLoss: 34.2591\t|\tRMSE: 5.9\n",
      "Epoch: 1\n",
      "\t(train)\tLoss: 35.6331\t|\tRMSE: 6.0\n",
      "\t(valid)\tLoss: 33.5282\t|\tRMSE: 5.8\n",
      "Epoch: 2\n",
      "\t(train)\tLoss: 35.2507\t|\tRMSE: 5.9\n",
      "\t(valid)\tLoss: 33.5495\t|\tRMSE: 5.8\n",
      "Epoch: 3\n",
      "\t(train)\tLoss: 35.0295\t|\tRMSE: 5.9\n",
      "\t(valid)\tLoss: 32.9426\t|\tRMSE: 5.7\n",
      "Epoch: 4\n",
      "\t(train)\tLoss: 34.8804\t|\tRMSE: 5.9\n",
      "\t(valid)\tLoss: 33.7188\t|\tRMSE: 5.8\n"
     ]
    }
   ],
   "source": [
    "from src.models.pytorch import train_regression, test_regression\n",
    "\n",
    "for epoch in range(N_EPOCHS):\n",
    "    train_loss, train_rmse = train_regression(train_dataset, model=model, criterion=criterion, optimizer=optimizer, batch_size=BATCH_SIZE, device=device)\n",
    "    valid_loss, valid_rmse = test_regression(val_dataset, model=model, criterion=criterion, batch_size=BATCH_SIZE, device=device)\n",
    "\n",
    "    print(f'Epoch: {epoch}')\n",
    "    print(f'\\t(train)\\tLoss: {train_loss:.4f}\\t|\\tRMSE: {train_rmse:.1f}')\n",
    "    print(f'\\t(valid)\\tLoss: {valid_loss:.4f}\\t|\\tRMSE: {valid_rmse:.1f}')"
   ]
  },
  {
   "cell_type": "code",
   "execution_count": 56,
   "metadata": {},
   "outputs": [],
   "source": [
    "torch.save(model, \"../models/pytorch_reg_beer_style.pt\")"
   ]
  },
  {
   "cell_type": "code",
   "execution_count": 57,
   "metadata": {},
   "outputs": [
    {
     "name": "stdout",
     "output_type": "stream",
     "text": [
      "\tLoss: 35.6418\t|\tRMSE: 6.0\n"
     ]
    }
   ],
   "source": [
    "test_loss, test_rmse = test_regression(test_dataset, model=model, criterion=criterion, batch_size=BATCH_SIZE, device=device)\n",
    "print(f'\\tLoss: {test_loss:.4f}\\t|\\tRMSE: {test_rmse:.1f}')"
   ]
  }
 ],
 "metadata": {
  "kernelspec": {
   "display_name": "Python 3",
   "language": "python",
   "name": "python3"
  },
  "language_info": {
   "codemirror_mode": {
    "name": "ipython",
    "version": 3
   },
   "file_extension": ".py",
   "mimetype": "text/x-python",
   "name": "python",
   "nbconvert_exporter": "python",
   "pygments_lexer": "ipython3",
   "version": "3.7.6"
  }
 },
 "nbformat": 4,
 "nbformat_minor": 4
}
